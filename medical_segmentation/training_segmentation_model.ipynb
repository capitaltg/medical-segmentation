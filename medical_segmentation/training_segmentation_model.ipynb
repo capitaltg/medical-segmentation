{
  "nbformat": 4,
  "nbformat_minor": 0,
  "metadata": {
    "colab": {
      "name": "training_segmentation_model.ipynb",
      "provenance": [],
      "collapsed_sections": []
    },
    "kernelspec": {
      "display_name": "Python 3",
      "name": "python3"
    },
    "language_info": {
      "name": "python"
    },
    "accelerator": "GPU"
  },
  "cells": [
    {
      "cell_type": "code",
      "metadata": {
        "id": "3IXsrwBeS04D"
      },
      "source": [
        "!pip install awscli\n",
        "import awscli\n",
        "from google.colab import drive\n",
        "!pip install pydicom\n",
        "drive.mount(\"/content/drive\", force_remount=True)"
      ],
      "execution_count": null,
      "outputs": []
    },
    {
      "cell_type": "code",
      "metadata": {
        "id": "-F4SuSkeTJcq"
      },
      "source": [
        "!cat /content/drive/My\\ Drive/config/awscli.ini\n",
        "path = \"/content/drive/My Drive/config/awscli.ini\"\n",
        "\n",
        "import os\n",
        "!export AWS_SHARED_CREDENTIALS_FILE=/content/drive/My\\ Drive/config/awscli.ini\n",
        "path = \"/content/drive/My Drive/config/awscli.ini\"\n",
        "os.environ['AWS_SHARED_CREDENTIALS_FILE'] = path\n",
        "\n",
        "!aws s3 cp s3://medical-image-segmentation/lungs/70-10-20-3D/train.zip .\n",
        "!aws s3 cp s3://medical-image-segmentation/lungs/70-10-20-3D/val.zip .\n",
        "!aws s3 cp s3://medical-image-segmentation/lungs/70-10-20-3D/test.zip .\n",
        "!aws s3 cp s3://medical-image-segmentation/lungs/70-10-20-3D/train-output.zip .\n",
        "!aws s3 cp s3://medical-image-segmentation/lungs/70-10-20-3D/val-output.zip .\n",
        "!aws s3 cp s3://medical-image-segmentation/lungs/70-10-20-3D/test-output.zip .\n",
        "\n",
        "!unzip train.zip\n",
        "!unzip val.zip\n",
        "!unzip test.zip\n",
        "!unzip train-output.zip\n",
        "!unzip val-output.zip\n",
        "!unzip test-output.zip"
      ],
      "execution_count": null,
      "outputs": []
    },
    {
      "cell_type": "code",
      "metadata": {
        "id": "zUWNxZ_jbvjm"
      },
      "source": [
        "# coding: utf-8\n",
        "import os\n",
        "import tensorflow as tf\n",
        "import tensorflow as tf\n",
        "from tensorflow.keras.preprocessing.image import ImageDataGenerator \n",
        "from tensorflow import keras\n",
        "!pip install keras_unet\n",
        "from keras_unet.models import custom_unet\n",
        "\n",
        "SEED = 909\n",
        "BATCH_SIZE_TRAIN = 4\n",
        "BATCH_SIZE_VAL = 4\n",
        "BATCH_SIZE_TEST = 4\n",
        "IMAGE_HEIGHT=512\n",
        "IMAGE_WIDTH=512\n",
        "IMG_SIZE = (IMAGE_HEIGHT,IMAGE_WIDTH)\n",
        "NUM_TRAIN = 6651\n",
        "NUM_VAL = 932\n",
        "NUM_TEST = 1950\n",
        "\n",
        "def create_train(img_path, mask_path, BATCH_SIZE):\n",
        "    data_gen_args = dict(rescale=1./255)\n",
        "    img_datagen = ImageDataGenerator(**data_gen_args)\n",
        "    mask_datagen = ImageDataGenerator(**data_gen_args)\n",
        "    \n",
        "    img_generator = img_datagen.flow_from_directory(img_path, target_size=IMG_SIZE, class_mode=None,\n",
        "       color_mode='grayscale', batch_size=BATCH_SIZE, seed=SEED)\n",
        "\n",
        "    mask_generator = mask_datagen.flow_from_directory(mask_path, target_size=IMG_SIZE, class_mode=None,\n",
        "       color_mode='grayscale', batch_size=BATCH_SIZE, seed=SEED)\n",
        "    return zip(img_generator, mask_generator)\n",
        "\n",
        "train_img_path = os.path.join('train-output', 'images')\n",
        "train_mask_path = os.path.join('train-output', 'masks')\n",
        "\n",
        "val_img_path = os.path.join('val-output', 'images')\n",
        "val_mask_path = os.path.join('val-output', 'masks')\n",
        "\n",
        "test_img_path = os.path.join('test-output', 'images')\n",
        "test_mask_path = os.path.join('test-output', 'masks')\n",
        "\n",
        "train_generator = create_train(train_img_path, train_mask_path, BATCH_SIZE_TRAIN)\n",
        "val_generator = create_train(val_img_path, val_mask_path, BATCH_SIZE_TRAIN)\n",
        "test_generator = create_train(test_img_path, test_mask_path, BATCH_SIZE_TRAIN)\n",
        "\n",
        "NUM_OF_EPOCHS = 100"
      ],
      "execution_count": null,
      "outputs": []
    },
    {
      "cell_type": "code",
      "metadata": {
        "id": "AdE3oUG70cOn"
      },
      "source": [
        "import matplotlib.pyplot as plt\n",
        "\n",
        "def display(display_list):\n",
        "    plt.figure(figsize=(15,15))\n",
        "    title = ['Input', 'True Mask', 'Predicted Mask']\n",
        "    for i in range(len(display_list)):\n",
        "        plt.subplot(1, len(display_list), i+1)\n",
        "        plt.title(title[i])\n",
        "        plt.imshow(tf.keras.preprocessing.image.array_to_img(display_list[i]), cmap='gray')\n",
        "    plt.show()\n",
        "\n",
        "def show_prediction(datagen, num=1):\n",
        "    for i in range(0,num):\n",
        "        image,mask = next(datagen)\n",
        "        pred_mask = model.predict(image)[0] > 0.5\n",
        "        display([image[0], mask[0], pred_mask])"
      ],
      "execution_count": null,
      "outputs": []
    },
    {
      "cell_type": "code",
      "metadata": {
        "id": "WFHipN5FQ2g9"
      },
      "source": [
        "img_arr = [array[i] for i in range(140)]\n",
        "for img in img_arr:\n",
        "  plt.imshow(img, cmap=\"gray\")\n",
        "  plt.show()"
      ],
      "execution_count": null,
      "outputs": []
    },
    {
      "cell_type": "code",
      "metadata": {
        "id": "GFq3_6xb0fg5"
      },
      "source": [
        "show_prediction(test_generator, 10)"
      ],
      "execution_count": null,
      "outputs": []
    },
    {
      "cell_type": "code",
      "metadata": {
        "id": "8qTT3-ZGce_5"
      },
      "source": [
        "import keras.backend as K\n",
        "import math\n",
        "def DiceLoss(targets, inputs, smooth=1e-6):\n",
        "    inputs = K.flatten(inputs)\n",
        "    targets = K.flatten(targets)\n",
        "    \n",
        "    intersection = K.sum(targets * inputs)\n",
        "    dice = (2*intersection + smooth) / (K.sum(targets) + K.sum(inputs) + smooth)\n",
        "    return 1 - dice"
      ],
      "execution_count": null,
      "outputs": []
    },
    {
      "cell_type": "code",
      "metadata": {
        "id": "eqhmaTWIcmR5"
      },
      "source": [
        "model = custom_unet(\n",
        "    input_shape=(512, 512, 1),\n",
        "    use_batch_norm=True,\n",
        "    num_classes=1,\n",
        "    filters=64,\n",
        "    dropout=0.25,\n",
        "    output_activation='sigmoid')"
      ],
      "execution_count": null,
      "outputs": []
    },
    {
      "cell_type": "code",
      "metadata": {
        "id": "i25Af9iZcpSe"
      },
      "source": [
        "EPOCH_STEP_TRAIN = NUM_TRAIN // BATCH_SIZE_TRAIN\n",
        "EPOCH_STEP_VAL = NUM_VAL // BATCH_SIZE_VAL\n",
        "EPOCH_STEP_TEST = NUM_TEST // BATCH_SIZE_TEST\n",
        "model.compile(optimizer='adam', loss=DiceLoss, metrics=[DiceLoss, tf.keras.metrics.Precision(), tf.keras.metrics.Recall()], run_eagerly=True)"
      ],
      "execution_count": null,
      "outputs": []
    },
    {
      "cell_type": "code",
      "metadata": {
        "id": "dIl1nGi4csEY"
      },
      "source": [
        "model.fit_generator(generator=train_generator, \n",
        "                    steps_per_epoch=EPOCH_STEP_TRAIN, \n",
        "                    validation_data=val_generator, \n",
        "                    validation_steps=EPOCH_STEP_VAL,\n",
        "                    epochs=30)"
      ],
      "execution_count": null,
      "outputs": []
    },
    {
      "cell_type": "code",
      "metadata": {
        "id": "yAzkGzfddloE"
      },
      "source": [
        "model.save(f'drive/MyDrive/UNET6-A99-P93-R88-{IMAGE_HEIGHT}_{IMAGE_WIDTH}.h5')"
      ],
      "execution_count": null,
      "outputs": []
    },
    {
      "cell_type": "code",
      "metadata": {
        "id": "mRtNTDALUnKh"
      },
      "source": [
        "model = keras.models.load_model(f'drive/MyDrive/UNET6-A99-P93-R88-{IMAGE_HEIGHT}_{IMAGE_WIDTH}.h5', custom_objects={\"DiceLoss\": DiceLoss})"
      ],
      "execution_count": null,
      "outputs": []
    },
    {
      "cell_type": "markdown",
      "metadata": {
        "id": "SA-bmOJYISbT"
      },
      "source": [
        "# 2D Surface Dice Evaluation"
      ]
    },
    {
      "cell_type": "code",
      "metadata": {
        "id": "aOwsL1sYNqa7"
      },
      "source": [
        "def dice_gen(img_path, mask_path, BATCH_SIZE):\n",
        "    data_gen_args = dict(rescale=1./255)\n",
        "    img_datagen = ImageDataGenerator(**data_gen_args)\n",
        "    mask_datagen = ImageDataGenerator(**data_gen_args)\n",
        "    \n",
        "    img_generator = img_datagen.flow_from_directory(img_path, target_size=IMG_SIZE, class_mode=None,\n",
        "       color_mode='grayscale', batch_size=BATCH_SIZE, seed=SEED, shuffle=False)\n",
        "\n",
        "    mask_generator = mask_datagen.flow_from_directory(mask_path, target_size=IMG_SIZE, class_mode=None,\n",
        "       color_mode='grayscale', batch_size=BATCH_SIZE, seed=SEED, shuffle=False)\n",
        "    return img_generator, mask_generator"
      ],
      "execution_count": null,
      "outputs": []
    },
    {
      "cell_type": "code",
      "metadata": {
        "id": "GV2QFe5NOg1I"
      },
      "source": [
        "from pydicom import dcmread\n",
        "import statistics\n",
        "from os import listdir\n",
        "from os.path import join\n",
        "import matplotlib.pyplot as plt\n",
        "\n",
        "!pip install ctg-surface-distance\n",
        "from ctg-surface-distance import compute_surface_distances, compute_surface_dice_at_tolerance\n",
        "\n",
        "def get_distances(path):\n",
        "  distances = {}\n",
        "  for subdir in listdir(path):\n",
        "    for image in listdir(join(path, subdir, \"images\")):\n",
        "      dimensions = dcmread(join(path, subdir, \"images\", image)).PixelSpacing\n",
        "      png_name = \"lung_l/\" + subdir + \"-\" + image + \".png\"\n",
        "      distances[png_name] = [d for d in dimensions]                             # change this ratio if image dimensions change\n",
        "  return distances\n",
        "\n",
        "def get_surface_dice_values(img_path, mask_path, batch_size, iterations, pixel_distances):\n",
        "  index = 0\n",
        "  dice_list = []\n",
        "  image_gen, mask_gen = dice_gen(img_path, mask_path, batch_size)\n",
        "  files = image_gen.filenames\n",
        "\n",
        "  for i in range(iterations):\n",
        "    image, mask = next(image_gen), next(mask_gen)\n",
        "    pred_masks = model.predict(image)\n",
        "  \n",
        "    for j in range(batch_size):\n",
        "      pred_mask = pred_masks[j] > 0.5                                           # not sure if this is correct thing to do\n",
        "      bool_mask = mask[j].astype(bool)\n",
        "      mask_gt = bool_mask.reshape((512, 512))\n",
        "      predicted_mask = pred_mask.reshape((512, 512))\n",
        "\n",
        "      surface_distances = compute_surface_distances(mask_gt, predicted_mask, pixel_distances[files[index]])\n",
        "      surface_dice = compute_surface_dice_at_tolerance(surface_distances, 1.9)\n",
        "      \n",
        "      dice_list.append(surface_dice)\n",
        "      index += 1\n",
        "  return dice_list\n",
        "  \n",
        "def compute_surface_dice_stats(dice_list):\n",
        "  filtered_dice_list = []\n",
        "  plt.hist(filtered_dice_list, bins=20)\n",
        "  plt.show()\n",
        "  for val in dice_list:\n",
        "    if not math.isnan(val):\n",
        "      filtered_dice_list.append(val)\n",
        "  filtered_dice_list.sort()\n",
        "  mean = sum(filtered_dice_list) / len(filtered_dice_list)\n",
        "  median = filtered_dice_list[len(filtered_dice_list) // 2]\n",
        "  std_dev = statistics.stdev(filtered_dice_list)\n",
        "  return mean, median, std_dev, filtered_dice_list\n"
      ],
      "execution_count": null,
      "outputs": []
    },
    {
      "cell_type": "code",
      "metadata": {
        "id": "_eb6QiArO3XZ"
      },
      "source": [
        "# split can be either train, val or test\n",
        "\n",
        "def surface_dice(split):\n",
        "  if split == \"train\":\n",
        "    img_path, mask_path = train_img_path, train_mask_path\n",
        "    batch_size, iterations = BATCH_SIZE_TRAIN, EPOCH_STEP_TRAIN\n",
        "  elif split == \"val\":\n",
        "    img_path, mask_path = val_img_path, val_mask_path\n",
        "    batch_size, iterations = BATCH_SIZE_VAL, EPOCH_STEP_VAL\n",
        "  elif split == \"test\":\n",
        "    img_path, mask_path = test_img_path, test_mask_path\n",
        "    batch_size, iterations = BATCH_SIZE_TEST, EPOCH_STEP_TEST\n",
        "  else:\n",
        "    assert False, \"invalid split\"\n",
        "  \n",
        "  pixel_distances = get_distances(split)\n",
        "  dice_list = get_surface_dice_values(img_path, mask_path, batch_size, iterations, pixel_distances)\n",
        "  return compute_surface_dice_stats(dice_list)\n",
        "  "
      ],
      "execution_count": null,
      "outputs": []
    },
    {
      "cell_type": "code",
      "metadata": {
        "id": "jKMFIWOjFeB0"
      },
      "source": [
        "import matplotlib as mpl\n",
        "mpl.rcParams['figure.dpi']= 500\n",
        "plt.hist(filtered_list, bins=50)\n",
        "plt.show()"
      ],
      "execution_count": null,
      "outputs": []
    },
    {
      "cell_type": "markdown",
      "metadata": {
        "id": "qpC4r8fw0ks4"
      },
      "source": [
        "# 3D Surface Dice Evaluation"
      ]
    },
    {
      "cell_type": "code",
      "metadata": {
        "id": "pZTCQFXJxY_2"
      },
      "source": [
        "from pydicom import dcmread\n",
        "import statistics\n",
        "from os import listdir\n",
        "from os.path import join\n",
        "import matplotlib.pyplot as plt\n",
        "import numpy as np\n",
        "\n",
        "!pip install ctg-surface-distance\n",
        "from ctg-surface-distance import compute_surface_distances, compute_surface_dice_at_tolerance\n",
        "\n",
        "def get_3D_prediction(img_path, mask_path, model, dimensions):\n",
        "  img_gen, mask_gen = dice_gen(img_path, mask_path, 1)\n",
        "  num_images = len(img_gen.filenames)\n",
        "  file_names = img_gen.filenames\n",
        "  patient = \"\"\n",
        "  dice_scores = []\n",
        "  for i in range(num_images):\n",
        "    curr_patient = file_names[i][7:19]\n",
        "    if curr_patient != patient:\n",
        "      if patient != \"\":\n",
        "        # compute the 3d dice here\n",
        "        surface_distances = compute_surface_distances(output_mask, output_pred, dimensions[patient])\n",
        "        surface_dice = compute_surface_dice_at_tolerance(surface_distances, 1.9)\n",
        "        dice_scores.append(surface_dice)\n",
        "      \n",
        "      image, mask = next(img_gen), next(mask_gen)\n",
        "      output_pred = model.predict(image).reshape(1, 512, 512) > 0.5\n",
        "      output_mask = mask.reshape(1, 512, 512).astype(bool)\n",
        "      count = 1\n",
        "      patient = curr_patient\n",
        "    else:\n",
        "      image, mask = next(img_gen), next(mask_gen)\n",
        "      slice_pred = model.predict(image).reshape(1, 512, 512) > 0.5\n",
        "      output_pred = np.vstack((output_pred, slice_pred))\n",
        "      output_mask = np.vstack((output_mask, mask.reshape(1, 512, 512).astype(bool)))\n",
        "      count += 1\n",
        "  \n",
        "  surface_distances = compute_surface_distances(output_mask, output_pred, dimensions[patient])\n",
        "  surface_dice = compute_surface_dice_at_tolerance(surface_distances, 1.9)\n",
        "  dice_scores.append(surface_dice)\n",
        "\n",
        "  return dice_scores\n",
        "\n",
        "def get_3D_dimensions(split):\n",
        "  dimensions = {}\n",
        "  for patient in listdir(split):\n",
        "    img = listdir(join(split, patient, \"images\"))[0]\n",
        "    image_data = dcmread(join(split, patient, \"images\", img))\n",
        "    pixel_spacing = image_data.PixelSpacing\n",
        "    thickness = image_data.SliceThickness\n",
        "    dimensions[patient] = (thickness, pixel_spacing[0], pixel_spacing[1])\n",
        "  return dimensions"
      ],
      "execution_count": null,
      "outputs": []
    },
    {
      "cell_type": "code",
      "metadata": {
        "colab": {
          "base_uri": "https://localhost:8080/"
        },
        "id": "hhNWUA-J6E5X",
        "outputId": "6db3bc27-90f3-4439-aeb1-eb4ac4761da3"
      },
      "source": [
        "dimensions = get_3D_dimensions(\"test\")\n",
        "dice_scores = get_3D_prediction(test_img_path, test_mask_path, model, dimensions)"
      ],
      "execution_count": null,
      "outputs": [
        {
          "output_type": "stream",
          "text": [
            "Found 1604 images belonging to 1 classes.\n",
            "Found 1604 images belonging to 1 classes.\n"
          ],
          "name": "stdout"
        }
      ]
    },
    {
      "cell_type": "code",
      "metadata": {
        "colab": {
          "base_uri": "https://localhost:8080/"
        },
        "id": "GXamn6jUFvjF",
        "outputId": "4eb02cf2-4ded-4dd6-e447-b0c6d2903dc5"
      },
      "source": [
        "print(dimensions)\n",
        "print(dice_scores)"
      ],
      "execution_count": null,
      "outputs": [
        {
          "output_type": "stream",
          "text": [
            "{'LCTSC-S1-005': (\"3.0\", \"0.9765625\", \"0.9765625\"), 'LCTSC-S1-202': (\"3.0\", \"0.9765625\", \"0.9765625\"), 'LCTSC-S1-011': (\"3.0\", \"0.9765625\", \"0.9765625\"), 'LCTSC-S3-005': (\"2.0\", \"1.171875\", \"1.171875\"), 'LCTSC-S2-011': (\"2.5\", \"0.976562\", \"0.976562\"), 'LCTSC-S2-008': (\"2.5\", \"0.976562\", \"0.976562\"), 'LCTSC-S3-008': (\"2.0\", \"0.976562\", \"0.976562\"), 'LCTSC-S1-008': (\"3.0\", \"0.9765625\", \"0.9765625\"), 'LCTSC-S2-005': (\"2.5\", \"0.976562\", \"0.976562\"), 'LCTSC-S3-011': (\"3.0\", \"1.171875\", \"1.171875\")}\n",
            "[0.9836000351507326, 0.962343696909276, 0.9372266811615954, 0.9709484560692622, 0.9478634316012897, 0.9282971252200365, 0.891586564570017, 0.8418964323295772, 0.9590294026342496, 0.7793676119737829]\n"
          ],
          "name": "stdout"
        }
      ]
    },
    {
      "cell_type": "markdown",
      "metadata": {
        "id": "Vg9OEVtKH760"
      },
      "source": [
        "# Code below for testing purposes"
      ]
    },
    {
      "cell_type": "code",
      "metadata": {
        "id": "8prKmGd1XORN"
      },
      "source": [
        "index = 0\n",
        "dice_list = []\n",
        "for i in range(1662):\n",
        "  image,mask = next(image_gen), next(mask_gen)\n",
        "  pred_masks = model.predict(image)\n",
        "  for j in range(4):\n",
        "    pred_mask = pred_masks[j] > 0.5\n",
        "    bool_mask = mask[j].astype(bool)\n",
        "    \n",
        "    mask_gt = bool_mask.reshape((512, 512))\n",
        "    predicted_mask = pred_mask.reshape((512, 512))\n",
        "\n",
        "    surface_distances = compute_surface_distances(mask_gt, predicted_mask, [1.9, 1.9])\n",
        "    surface_dice = compute_surface_dice_at_tolerance(surface_distances, 1.9)\n",
        "    display([image[j], mask[j], pred_mask])\n",
        "    print(\"surface dice: \" + str(surface_dice))\n",
        "    dice_list.append(surface_dice)\n",
        "    index += 1"
      ],
      "execution_count": null,
      "outputs": []
    },
    {
      "cell_type": "code",
      "metadata": {
        "colab": {
          "base_uri": "https://localhost:8080/"
        },
        "id": "9uLaamhDdcPL",
        "outputId": "b19b7a2c-55dd-4292-b8ba-67a4eaeefcba"
      },
      "source": [
        "count = 0\n",
        "total = 0\n",
        "for val in dice_list:\n",
        "  if not math.isnan(val):\n",
        "    count += 1\n",
        "    total += val\n",
        "\n",
        "print(total/count)"
      ],
      "execution_count": null,
      "outputs": [
        {
          "output_type": "stream",
          "text": [
            "0.8876650726948787\n"
          ],
          "name": "stdout"
        }
      ]
    },
    {
      "cell_type": "code",
      "metadata": {
        "id": "ctoh7ygRXTy0"
      },
      "source": [
        "from pydicom import dcmread\n",
        "\n",
        "def get_distances(path):\n",
        "  distances = {}\n",
        "  for subdir in listdir(path):\n",
        "    for image in listdir(join(path, subdir, \"images\")):\n",
        "      dimensions = dcmread(join(path, subdir, \"images\", image)).PixelSpacing\n",
        "      png_name = \"lung_l/\" + subdir + \"-\" + image + \".png\"\n",
        "      distances[png_name] = [d for d in dimensions]                         # change this ratio if image dimensions change\n",
        "  return distances\n",
        "\n",
        "distances = get_distances(\"val\")"
      ],
      "execution_count": null,
      "outputs": []
    },
    {
      "cell_type": "code",
      "metadata": {
        "colab": {
          "base_uri": "https://localhost:8080/"
        },
        "id": "R1R2g4OPXNIV",
        "outputId": "779a2dcc-2d3b-4b06-cea0-9d57686b2083"
      },
      "source": [
        "image_gen, mask_gen = dice_gen(train_img_path, train_mask_path, BATCH_SIZE_TRAIN)\n",
        "files = image_gen.filenames"
      ],
      "execution_count": null,
      "outputs": [
        {
          "output_type": "stream",
          "text": [
            "Found 6651 images belonging to 1 classes.\n",
            "Found 6651 images belonging to 1 classes.\n"
          ],
          "name": "stdout"
        }
      ]
    },
    {
      "cell_type": "code",
      "metadata": {
        "id": "JMmR94yn1FBE"
      },
      "source": [
        "def 3D-surface_dice(split):\n",
        "  dimensions = {}\n",
        "  for patient in listdir(split):\n",
        "    pixel_spacing = dcmread()"
      ],
      "execution_count": null,
      "outputs": []
    }
  ]
}