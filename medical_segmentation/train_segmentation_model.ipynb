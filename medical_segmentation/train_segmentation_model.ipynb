{
  "nbformat": 4,
  "nbformat_minor": 2,
  "metadata": {
    "colab": {
      "name": "training_segmentation_model.ipynb",
      "provenance": [],
      "collapsed_sections": []
    },
    "kernelspec": {
      "display_name": "Python 3",
      "name": "python3"
    },
    "language_info": {
      "name": "python"
    },
    "accelerator": "GPU"
  },
  "cells": [
    {
      "cell_type": "code",
      "execution_count": null,
      "source": [
        "# coding: utf-8\n",
        "import os\n",
        "\n",
        "import tensorflow as tf\n",
        "from keras.preprocessing.image import ImageDataGenerator\n",
        "from keras_unet.models import custom_unet\n",
        "import keras.backend as K\n",
        "import matplotlib.pyplot as plt\n",
        "\n",
        "SEED = 909\n",
        "BATCH_SIZE_TRAIN = 4\n",
        "BATCH_SIZE_VAL = 4\n",
        "BATCH_SIZE_TEST = 4\n",
        "IMAGE_HEIGHT = 512\n",
        "IMAGE_WIDTH = 512\n",
        "IMG_SIZE = (IMAGE_HEIGHT,IMAGE_WIDTH)\n",
        "NUM_TRAIN = 6651\n",
        "NUM_VAL = 932\n",
        "NUM_TEST = 1950\n",
        "NUM_EPOCHS = 20"
      ],
      "outputs": [],
      "metadata": {
        "id": "zUWNxZ_jbvjm"
      }
    },
    {
      "cell_type": "code",
      "execution_count": null,
      "source": [
        "model = custom_unet(\n",
        "    input_shape=(512, 512, 1),\n",
        "    use_batch_norm=True,\n",
        "    num_classes=1,\n",
        "    filters=64,\n",
        "    dropout=0.25,\n",
        "    output_activation='sigmoid')"
      ],
      "outputs": [],
      "metadata": {
        "id": "eqhmaTWIcmR5"
      }
    },
    {
      "cell_type": "code",
      "execution_count": null,
      "source": [
        "def dice_loss(targets, inputs, smooth=1e-6):\n",
        "    inputs = K.flatten(inputs)\n",
        "    targets = K.flatten(targets)\n",
        "\n",
        "    intersection = K.sum(targets * inputs)\n",
        "    dice = (2 * intersection + smooth) / (K.sum(targets) + K.sum(inputs) + smooth)\n",
        "    return 1 - dice"
      ],
      "outputs": [],
      "metadata": {
        "id": "8qTT3-ZGce_5"
      }
    },
    {
      "cell_type": "code",
      "execution_count": null,
      "source": [
        "EPOCH_STEP_TRAIN = NUM_TRAIN // BATCH_SIZE_TRAIN\n",
        "EPOCH_STEP_VAL = NUM_VAL // BATCH_SIZE_VAL\n",
        "EPOCH_STEP_TEST = NUM_TEST // BATCH_SIZE_TEST\n",
        "model.compile(optimizer='adam', loss=dice_loss, metrics=[dice_loss, tf.keras.metrics.Precision(),\n",
        "    tf.keras.metrics.Recall()], run_eagerly=False)"
      ],
      "outputs": [],
      "metadata": {
        "id": "i25Af9iZcpSe"
      }
    },
    {
      "cell_type": "code",
      "execution_count": null,
      "source": [
        "def create_img_generator(img_path, mask_path, batch_size):\n",
        "    data_gen_args = dict(rescale=1./255)\n",
        "    img_datagen = ImageDataGenerator(**data_gen_args)\n",
        "    mask_datagen = ImageDataGenerator(**data_gen_args)\n",
        "\n",
        "    img_generator = img_datagen.flow_from_directory(img_path, target_size=IMG_SIZE, class_mode=None,\n",
        "       color_mode='grayscale', batch_size=batch_size, seed=SEED)\n",
        "\n",
        "    mask_generator = mask_datagen.flow_from_directory(mask_path, target_size=IMG_SIZE,\n",
        "       class_mode=None, color_mode='grayscale', batch_size=batch_size, seed=SEED)\n",
        "    return zip(img_generator, mask_generator)"
      ],
      "outputs": [],
      "metadata": {}
    },
    {
      "cell_type": "code",
      "execution_count": null,
      "source": [
        "train_img_path = os.path.join('train-output', 'images')\n",
        "train_mask_path = os.path.join('train-output', 'masks')\n",
        "\n",
        "val_img_path = os.path.join('val-output', 'images')\n",
        "val_mask_path = os.path.join('val-output', 'masks')\n",
        "\n",
        "train_generator = create_img_generator(train_img_path, train_mask_path, BATCH_SIZE_TRAIN)\n",
        "val_generator = create_img_generator(val_img_path, val_mask_path, BATCH_SIZE_TRAIN)"
      ],
      "outputs": [],
      "metadata": {}
    },
    {
      "cell_type": "code",
      "execution_count": null,
      "source": [
        "model.fit(train_generator,\n",
        "    steps_per_epoch=EPOCH_STEP_TRAIN,\n",
        "    validation_data=val_generator,\n",
        "    validation_steps=EPOCH_STEP_VAL,\n",
        "    epochs=NUM_EPOCHS)"
      ],
      "outputs": [],
      "metadata": {
        "id": "dIl1nGi4csEY"
      }
    },
    {
      "cell_type": "code",
      "execution_count": null,
      "source": [
        "model.save('ctg-segmentation-model.h5')"
      ],
      "outputs": [],
      "metadata": {
        "id": "yAzkGzfddloE"
      }
    },
    {
      "cell_type": "code",
      "execution_count": null,
      "source": [
        "def display(display_list):\n",
        "    plt.figure(figsize=(15,15))\n",
        "    title = ['Input', 'True Mask', 'Predicted Mask']\n",
        "    for i, _ in enumerate(display_list):\n",
        "        plt.subplot(1, len(display_list), i + 1)\n",
        "        plt.title(title[i])\n",
        "        plt.imshow(tf.keras.preprocessing.image.array_to_img(display_list[i]), cmap='gray')\n",
        "    plt.show()\n",
        "\n",
        "def show_prediction(datagen, num=1):\n",
        "    for _ in range(0, num):\n",
        "        image,mask = next(datagen)\n",
        "        pred_mask = model.predict(image)[0] > 0.5\n",
        "        display([image[0], mask[0], pred_mask])"
      ],
      "outputs": [],
      "metadata": {
        "id": "AdE3oUG70cOn"
      }
    },
    {
      "cell_type": "code",
      "execution_count": null,
      "source": [
        "test_img_path = os.path.join('test-output', 'images')\n",
        "test_mask_path = os.path.join('test-output', 'masks')\n",
        "\n",
        "test_generator = create_img_generator(test_img_path, test_mask_path, BATCH_SIZE_TRAIN)\n",
        "\n",
        "show_prediction(test_generator, 3)"
      ],
      "outputs": [],
      "metadata": {}
    }
  ]
}