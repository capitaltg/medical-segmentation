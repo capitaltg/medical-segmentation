{
 "cells": [
  {
   "cell_type": "code",
   "execution_count": null,
   "metadata": {
    "id": "2thSMGZDGHwW"
   },
   "outputs": [],
   "source": [
    "import os\n",
    "from os import listdir\n",
    "from os.path import join\n",
    "import logging\n",
    "import random\n",
    "\n",
    "import awscli\n",
    "\n",
    "import matplotlib.pyplot as plt\n",
    "\n",
    "import tensorflow as tf\n",
    "from tensorflow import keras\n",
    "from keras_unet.models import custom_vnet\n",
    "import keras.backend as K\n",
    "\n",
    "from google.colab import drive\n",
    "drive.mount(\"/content/drive\", force_remount=True)\n",
    "import SimpleITK as sitk"
   ]
  },
  {
   "cell_type": "code",
   "execution_count": null,
   "metadata": {
    "id": "w_EKjEeSdOWt"
   },
   "outputs": [],
   "source": [
    "!cat /content/drive/My\\ Drive/config/awscli.ini\n",
    "!export AWS_SHARED_CREDENTIALS_FILE=/content/drive/My\\ Drive/config/awscli.ini\n",
    "PATH = \"/content/drive/My Drive/config/awscli.ini\"\n",
    "os.environ['AWS_SHARED_CREDENTIALS_FILE'] = PATH\n",
    "\n",
    "!aws s3 cp s3://medical-image-segmentation/lungs/smaller-resampled/train-nrrd-resampled.zip .\n",
    "!aws s3 cp s3://medical-image-segmentation/lungs/smaller-resampled/val-nrrd-resampled.zip .\n",
    "!aws s3 cp s3://medical-image-segmentation/lungs/smaller-resampled/test-nrrd-resampled.zip .\n",
    "\n",
    "!unzip train-nrrd-resampled\n",
    "!unzip val-nrrd-resampled\n",
    "!unzip test-nrrd-resampled"
   ]
  },
  {
   "cell_type": "code",
   "execution_count": null,
   "metadata": {
    "id": "rbq-WbMrIvda"
   },
   "outputs": [],
   "source": [
    "def data_gen(split):\n",
    "    \"\"\"\n",
    "    Creates a data generator depending on the split argument\n",
    "    Args:\n",
    "        split (str): the name of the split - train, val, or test\\\n",
    "    Returns:\n",
    "        the data generator\n",
    "    \"\"\"\n",
    "    directory = split + \"-nrrd-resampled\"\n",
    "    patient_list = listdir(directory)\n",
    "    while True:\n",
    "        random.shuffle(patient_list)\n",
    "        for patient in patient_list:\n",
    "            # reading image and mask nrrd files, getting data arrays, and reshaping them\n",
    "            img_sitk = sitk.ReadImage(join(directory, patient, \"image.nrrd\"))\n",
    "            mask_sitk = sitk.ReadImage(join(directory, patient, \"mask.nrrd\"))\n",
    "            \n",
    "            img_data = sitk.GetArrayFromImage(img_sitk)\n",
    "            mask_data = sitk.GetArrayFromImage(mask_sitk)\n",
    "            \n",
    "            z_dim, x_dim, y_dim = img_data.shape\n",
    "            img = img_data.reshape((1, z_dim, x_dim, y_dim, 1))\n",
    "            mask = mask_data.reshape((1, z_dim, x_dim, y_dim, 1))\n",
    "            yield img, mask"
   ]
  },
  {
   "cell_type": "code",
   "execution_count": null,
   "metadata": {
    "id": "hRTOD00wR7B1"
   },
   "outputs": [],
   "source": [
    "def dice_loss(targets, inputs, smooth=1e-6):\n",
    "    \"\"\"\n",
    "    Computes the dice loss given targets and predictions\n",
    "    Args:\n",
    "        targets (array): the ground truth masks\n",
    "        inputs (array): the predicted masks\n",
    "        smooth (num): additional overlapping surface area\n",
    "    Returns:\n",
    "        the dice loss value\n",
    "    \"\"\"\n",
    "    inputs = K.flatten(inputs)\n",
    "    targets = K.flatten(targets)\n",
    "    intersection = K.sum(targets * inputs)\n",
    "    dice = (2*intersection + smooth) / (K.sum(targets) + K.sum(inputs) + smooth)\n",
    "    return 1 - dice"
   ]
  },
  {
   "cell_type": "code",
   "execution_count": null,
   "metadata": {
    "id": "jhlRIaj1Uqmv"
   },
   "outputs": [],
   "source": [
    "# initializing multi GPU model through distributed strategy\n",
    "STATS = [dice_loss, tf.keras.metrics.Precision(), tf.keras.metrics.Recall()]\n",
    "STRATEGY = tf.distribute.MirroredStrategy()\n",
    "with STRATEGY.scope():\n",
    "    MODEL = custom_vnet(\n",
    "        input_shape=(None, None, None, 1),\n",
    "        use_batch_norm=True,\n",
    "        num_classes=1,\n",
    "        filters=16,\n",
    "        dropout=0.25,\n",
    "        output_activation='sigmoid',\n",
    "        )\n",
    "    MODEL.compile(optimizer='adam', loss=dice_loss, metrics=STATS, run_eagerly=False)"
   ]
  },
  {
   "cell_type": "code",
   "execution_count": null,
   "metadata": {
    "id": "TWydpm8uUbaG"
   },
   "outputs": [],
   "source": [
    "# initializing single GPU model\n",
    "MODEL = custom_vnet(\n",
    "    input_shape=(None, None, None, 1),\n",
    "    use_batch_norm=True,\n",
    "    num_classes=1,\n",
    "    filters=20,\n",
    "    dropout=0.25,\n",
    "    output_activation='sigmoid',\n",
    "    num_layers=3\n",
    ")\n",
    "MODEL.compile(optimizer='adam', loss=dice_loss, metrics=STATS, run_eagerly=True)"
   ]
  },
  {
   "cell_type": "code",
   "execution_count": null,
   "metadata": {
    "id": "ERuHIGxkejyU"
   },
   "outputs": [],
   "source": [
    "TRAIN = data_gen(\"train\")\n",
    "VAL = data_gen(\"val\")\n",
    "model.fit_generator(generator=TRAIN,\n",
    "                    steps_per_epoch=42,\n",
    "                    validation_data=VAL,\n",
    "                    validation_steps=6,\n",
    "                    epochs=50)"
   ]
  },
  {
   "cell_type": "code",
   "execution_count": null,
   "metadata": {
    "id": "JabpU_BTVD2n"
   },
   "outputs": [],
   "source": [
    "MODEL.save(f'LCTSC-preliminary-3d-model.h5')"
   ]
  },
  {
   "cell_type": "code",
   "execution_count": null,
   "metadata": {
    "id": "RUvlQ-KwU1CN"
   },
   "outputs": [],
   "source": [
    "def show_predictions(path):\n",
    "    \"\"\"\n",
    "    Displays images, masks, and predictions side by side in a grid format\n",
    "    Args:\n",
    "        path (str): the path to the folder containing patient folders, which each\n",
    "                    contain an image and mask nrrd file\n",
    "    Returns:\n",
    "        None\n",
    "    \"\"\"\n",
    "    for patient in listdir(path):\n",
    "        logging.info('showing patient: ', patient)\n",
    "        img_data = sitk.GetArrayFromImage(sitk.ReadImage(join(path, patient, \"image.nrrd\")))\n",
    "        mask_data = sitk.GetArrayFromImage(sitk.ReadImage(join(path, patient, \"mask.nrrd\")))\n",
    "        z_dim, x_dim, y_dim = img_data.shape\n",
    "        \n",
    "        # getting the image, mask, and predicted mask as arrays\n",
    "        img = img_data.reshape((z_dim, x_dim, y_dim, 1))\n",
    "        mask = mask_data.reshape((z_dim, x_dim, y_dim 1))\n",
    "        pred = MODEL.predict(img.reshape((1, z_dim, x_dim, y_dim, 1))).reshape((z_dim, x_dim, y_dim, 1)) > 0.5\n",
    "        rows = len(img) // 10 + 1\n",
    "        plt.axis('off')\n",
    "        fig = plt.figure(figsize=(200, 80), dpi=100)\n",
    "        \n",
    "        # showing image, mask, prediction respectively in matplotlib plot\n",
    "        for i in range(len(img)):\n",
    "            img_slice = img[i].reshape((img_data.shape[1], img_data.shape[2]))\n",
    "            mask_slice = mask[i].reshape((mask_data.shape[1], mask_data.shape[2]))\n",
    "            pred_slice = pred[i].reshape((img_data.shape[1], img_data.shape[2]))\n",
    "            ax_img = fig.add_subplot(rows, 30, i*3+1)\n",
    "            ax_img.imshow(img_slice, cmap=\"gray\")\n",
    "            ax_img.set_axis_off()\n",
    "            ax_mask = fig.add_subplot(rows, 30, i*3+2)\n",
    "            ax_mask.imshow(mask_slice, cmap=\"gray\")\n",
    "            ax_mask.set_axis_off()\n",
    "            ax_pred = fig.add_subplot(rows, 30, i*3+3)\n",
    "            ax_pred.imshow(pred_slice, cmap=\"gray\")\n",
    "            ax_pred.set_axis_off()\n",
    "        plt.show()"
   ]
  },
  {
   "cell_type": "code",
   "execution_count": null,
   "metadata": {},
   "outputs": [],
   "source": [
    "show_predictions(\"test-nrrd-resampled\")"
   ]
  }
 ],
 "metadata": {
  "accelerator": "GPU",
  "colab": {
   "collapsed_sections": [],
   "machine_shape": "hm",
   "name": "3D_segmentation_model.ipynb",
   "provenance": []
  },
  "kernelspec": {
   "display_name": "Python 3",
   "language": "python",
   "name": "python3"
  },
  "language_info": {
   "codemirror_mode": {
    "name": "ipython",
    "version": 3
   },
   "file_extension": ".py",
   "mimetype": "text/x-python",
   "name": "python",
   "nbconvert_exporter": "python",
   "pygments_lexer": "ipython3",
   "version": "3.8.1"
  }
 },
 "nbformat": 4,
 "nbformat_minor": 2
}
