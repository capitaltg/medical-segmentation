{
  "nbformat": 4,
  "nbformat_minor": 0,
  "metadata": {
    "accelerator": "GPU",
    "colab": {
      "name": "3D_segmentation_model.ipynb",
      "provenance": [],
      "collapsed_sections": [],
      "machine_shape": "hm"
    },
    "kernelspec": {
      "display_name": "Python 3",
      "name": "python3"
    },
    "language_info": {
      "name": "python"
    }
  },
  "cells": [
    {
      "cell_type": "code",
      "metadata": {
        "id": "2thSMGZDGHwW"
      },
      "source": [
        "from google.colab import drive\n",
        "drive.mount(\"/content/drive\", force_remount=True)\n",
        "\n",
        "!pip install pydicom\n",
        "import pydicom\n",
        "from pydicom import dcmread\n",
        "\n",
        "!pip install awscli\n",
        "import awscli\n",
        "\n",
        "!pip install pynrrd\n",
        "import nrrd\n",
        "\n",
        "!pip install SimpleITK==1.2.4\n",
        "import SimpleITK as sitk\n",
        "\n",
        "import os\n",
        "from os import listdir\n",
        "from os.path import join\n",
        "\n",
        "import matplotlib.pyplot as plt\n",
        "import numpy as np\n",
        "import random\n",
        "\n",
        "import tensorflow as tf\n",
        "from tensorflow.keras.preprocessing.image import ImageDataGenerator \n",
        "from tensorflow import keras\n",
        "!pip install keras_unet\n",
        "from keras_unet.models import custom_vnet\n",
        "\n",
        "import logging"
      ],
      "execution_count": null,
      "outputs": []
    },
    {
      "cell_type": "code",
      "metadata": {
        "id": "w_EKjEeSdOWt"
      },
      "source": [
        "!cat /content/drive/My\\ Drive/config/awscli.ini\n",
        "path = \"/content/drive/My Drive/config/awscli.ini\"\n",
        "\n",
        "import os\n",
        "!export AWS_SHARED_CREDENTIALS_FILE=/content/drive/My\\ Drive/config/awscli.ini\n",
        "path = \"/content/drive/My Drive/config/awscli.ini\"\n",
        "os.environ['AWS_SHARED_CREDENTIALS_FILE'] = path\n",
        "\n",
        "!aws s3 cp s3://medical-image-segmentation/lungs/smaller-resampled/train-nrrd-resampled.zip .\n",
        "!aws s3 cp s3://medical-image-segmentation/lungs/smaller-resampled/val-nrrd-resampled.zip .\n",
        "!aws s3 cp s3://medical-image-segmentation/lungs/smaller-resampled/test-nrrd-resampled.zip .\n",
        "\n",
        "!unzip train-nrrd-resampled\n",
        "!unzip val-nrrd-resampled\n",
        "!unzip test-nrrd-resampled"
      ],
      "execution_count": null,
      "outputs": []
    },
    {
      "cell_type": "code",
      "metadata": {
        "id": "rbq-WbMrIvda"
      },
      "source": [
        "def val_gen():\n",
        "  patient_list = listdir(\"val-nrrd-resampled\")\n",
        "  while True:\n",
        "    random.shuffle(patient_list)\n",
        "    for patient in patient_list:\n",
        "      img_data = sitk.GetArrayFromImage(sitk.ReadImage(join(\"val-nrrd-resampled\", patient, \"image.nrrd\")))\n",
        "      mask_data = sitk.GetArrayFromImage(sitk.ReadImage(join(\"val-nrrd-resampled\", patient, \"mask.nrrd\")))\n",
        "\n",
        "      img = img_data.reshape((1, img_data.shape[0], img_data.shape[1], img_data.shape[2], 1))\n",
        "      mask = mask_data.reshape((1, mask_data.shape[0], mask_data.shape[1], mask_data.shape[2], 1))\n",
        "      yield img, mask\n",
        "\n",
        "def train_gen():\n",
        "  patient_list = listdir(\"train-nrrd-resampled\")\n",
        "  while True:\n",
        "    random.shuffle(patient_list)\n",
        "    for patient in patient_list:\n",
        "      img_data = sitk.GetArrayFromImage(sitk.ReadImage(join(\"train-nrrd-resampled\", patient, \"image.nrrd\")))\n",
        "      mask_data = sitk.GetArrayFromImage(sitk.ReadImage(join(\"train-nrrd-resampled\", patient, \"mask.nrrd\")))\n",
        "\n",
        "      img = img_data.reshape((1, img_data.shape[0], img_data.shape[1], img_data.shape[2], 1))\n",
        "      mask = mask_data.reshape((1, mask_data.shape[0], mask_data.shape[1], mask_data.shape[2], 1))\n",
        "      yield img, mask"
      ],
      "execution_count": null,
      "outputs": []
    },
    {
      "cell_type": "code",
      "metadata": {
        "id": "hRTOD00wR7B1"
      },
      "source": [
        "import keras.backend as K\n",
        "import math\n",
        "def DiceLoss(targets, inputs, smooth=1e-6):\n",
        "    inputs = K.flatten(inputs)\n",
        "    targets = K.flatten(targets)\n",
        "    \n",
        "    intersection = K.sum(targets * inputs)\n",
        "    dice = (2*intersection + smooth) / (K.sum(targets) + K.sum(inputs) + smooth)\n",
        "    return 1 - dice"
      ],
      "execution_count": null,
      "outputs": []
    },
    {
      "cell_type": "code",
      "metadata": {
        "id": "exUp4eTMR8or"
      },
      "source": [
        "model = custom_vnet(\n",
        "    input_shape=(None, None, None, 1),\n",
        "    use_batch_norm=True,\n",
        "    num_classes=1,\n",
        "    filters=20,\n",
        "    dropout=0.25,\n",
        "    output_activation='sigmoid',\n",
        "    num_layers=3\n",
        ")"
      ],
      "execution_count": null,
      "outputs": []
    },
    {
      "cell_type": "code",
      "metadata": {
        "id": "jhlRIaj1Uqmv"
      },
      "source": [
        "strategy = tf.distribute.MirroredStrategy()\n",
        "with strategy.scope():\n",
        "    model = custom_vnet(\n",
        "        input_shape=(None, None, None, 1),\n",
        "        use_batch_norm=True,\n",
        "        num_classes=1,\n",
        "        filters=16,\n",
        "        dropout=0.25,\n",
        "        output_activation='sigmoid',\n",
        "        )\n",
        "    model.compile(optimizer='adam', loss=DiceLoss, metrics=[DiceLoss, tf.keras.metrics.Precision(), tf.keras.metrics.Recall()], run_eagerly=False)"
      ],
      "execution_count": null,
      "outputs": []
    },
    {
      "cell_type": "code",
      "metadata": {
        "id": "TWydpm8uUbaG"
      },
      "source": [
        "model.compile(optimizer='adam', loss=DiceLoss, metrics=[DiceLoss, tf.keras.metrics.Precision(), tf.keras.metrics.Recall()], run_eagerly=True)"
      ],
      "execution_count": null,
      "outputs": []
    },
    {
      "cell_type": "code",
      "metadata": {
        "id": "ERuHIGxkejyU"
      },
      "source": [
        "train = train_gen()\n",
        "val = val_gen()\n",
        "model.fit_generator(generator=train,\n",
        "                    steps_per_epoch=42,\n",
        "                    validation_data=val,\n",
        "                    validation_steps=6,\n",
        "                    epochs=50)"
      ],
      "execution_count": null,
      "outputs": []
    },
    {
      "cell_type": "code",
      "metadata": {
        "id": "JabpU_BTVD2n"
      },
      "source": [
        "model.save(f'LCTSC-preliminary-3d-model.h5')"
      ],
      "execution_count": null,
      "outputs": []
    },
    {
      "cell_type": "code",
      "metadata": {
        "id": "RUvlQ-KwU1CN"
      },
      "source": [
        "def show_predictions(path):\n",
        "  for patient in listdir(path):\n",
        "    print('showing patient: ', patient)\n",
        "    img_data = sitk.GetArrayFromImage(sitk.ReadImage(join(path, patient, \"image.nrrd\")))\n",
        "    mask_data = sitk.GetArrayFromImage(sitk.ReadImage(join(path, patient, \"mask.nrrd\")))\n",
        "\n",
        "    img = img_data.reshape((img_data.shape[0], img_data.shape[1], img_data.shape[2], 1))\n",
        "    mask = mask_data.reshape((mask_data.shape[0], mask_data.shape[1], mask_data.shape[2], 1))\n",
        "    pred = model.predict(img.reshape((1, img_data.shape[0], img_data.shape[1], img_data.shape[2], 1))).reshape((img_data.shape[0], img_data.shape[1], img_data.shape[2], 1)) > 0.5\n",
        "    \n",
        "    rows = len(img) // 10 + 1\n",
        "    plt.axis('off')\n",
        "    fig = plt.figure(figsize=(200,80), dpi= 100)\n",
        "    for i in range(len(img)):\n",
        "        row_num = i // 10\n",
        "        col_num = i % 10\n",
        "        img_slice = img[i].reshape((img_data.shape[1], img_data.shape[2]))\n",
        "        mask_slice = mask[i].reshape((mask_data.shape[1], mask_data.shape[2]))\n",
        "        pred_slice = pred[i].reshape((img_data.shape[1], img_data.shape[2]))\n",
        "        ax = fig.add_subplot(rows,30,i*3+1)\n",
        "        ax.imshow(img_slice, cmap=\"gray\")\n",
        "        ax.set_axis_off()\n",
        "        ax = fig.add_subplot(rows,30,i*3+2)\n",
        "        ax.imshow(mask_slice, cmap=\"gray\")\n",
        "        ax.set_axis_off()\n",
        "        ax = fig.add_subplot(rows,30,i*3+3)\n",
        "        ax.imshow(pred_slice, cmap=\"gray\")\n",
        "        ax.set_axis_off()\n",
        "    plt.show()"
      ],
      "execution_count": null,
      "outputs": []
    }
  ]
}