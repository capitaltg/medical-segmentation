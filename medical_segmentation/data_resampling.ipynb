{
  "nbformat": 4,
  "nbformat_minor": 0,
  "metadata": {
    "colab": {
      "name": "data_resampling.ipynb",
      "provenance": [],
      "collapsed_sections": [],
      "machine_shape": "hm"
    },
    "kernelspec": {
      "display_name": "Python 3",
      "name": "python3"
    },
    "language_info": {
      "name": "python"
    }
  },
  "cells": [
    {
      "cell_type": "code",
      "metadata": {
        "id": "WEWCoysRJU34"
      },
      "source": [
        "from google.colab import drive\n",
        "drive.mount(\"/content/drive\", force_remount=True)\n",
        "\n",
        "!pip install awscli\n",
        "import awscli\n",
        "\n",
        "!pip install SimpleITK==1.2.4\n",
        "import SimpleITK as sitk\n",
        "\n",
        "!pip install pydicom\n",
        "import pydicom\n",
        "from pydicom import dcmread\n",
        "\n",
        "import sys, os, glob\n",
        "from os import listdir\n",
        "from os.path import join\n",
        "\n",
        "import matplotlib.pyplot as plt\n",
        "import numpy as np\n",
        "np.set_printoptions(threshold=np.inf)\n",
        "\n",
        "import logging\n",
        "\n",
        "from helpers import fetch_contour_sop_instance_uid, contour_to_pixels, build_mask, normalize_intensity"
      ],
      "execution_count": null,
      "outputs": []
    },
    {
      "cell_type": "markdown",
      "metadata": {
        "id": "RQVMxqm5NoMr"
      },
      "source": [
        "## Downloading Data\n",
        "\n",
        "- data needs to be organized by patient"
      ]
    },
    {
      "cell_type": "code",
      "metadata": {
        "id": "lKMyuw21JP1K"
      },
      "source": [
        "!cat /content/drive/My\\ Drive/config/awscli.ini\n",
        "path = \"/content/drive/My Drive/config/awscli.ini\"\n",
        "\n",
        "import os\n",
        "!export AWS_SHARED_CREDENTIALS_FILE=/content/drive/My\\ Drive/config/awscli.ini\n",
        "path = \"/content/drive/My Drive/config/awscli.ini\"\n",
        "os.environ['AWS_SHARED_CREDENTIALS_FILE'] = path\n",
        "\n",
        "!aws s3 cp s3://medical-image-segmentation/lungs/70-10-20-resample/train.zip .\n",
        "!aws s3 cp s3://medical-image-segmentation/lungs/70-10-20-resample/val.zip .\n",
        "!aws s3 cp s3://medical-image-segmentation/lungs/70-10-20-resample/test.zip ."
      ],
      "execution_count": null,
      "outputs": []
    },
    {
      "cell_type": "code",
      "metadata": {
        "id": "pwDP6WMsJXsn"
      },
      "source": [
        "!unzip train.zip\n",
        "!unzip val.zip\n",
        "!unzip test.zip"
      ],
      "execution_count": null,
      "outputs": []
    },
    {
      "cell_type": "markdown",
      "metadata": {
        "id": "iT8oNoFZOA7d"
      },
      "source": [
        "## Resampling Data\n",
        "\n",
        "- data is first converted from dcm to nrrd format\n",
        "- nrrd format can then be resampled into arbitrary voxel spacing"
      ]
    },
    {
      "cell_type": "code",
      "metadata": {
        "id": "nY2Nbk_VIf7X"
      },
      "source": [
        "def load_dicom(slice_list, split, patient_id):\n",
        "    metadata = dcmread(os.path.join(split, patient_id, \"metadata\", '1-1.dcm'))\n",
        "    slices = []\n",
        "    mask_arrays = []\n",
        "    num_with_rois = 0\n",
        "    for s in slice_list:\n",
        "        new_slice = pydicom.dcmread(s)\n",
        "        slices.append(new_slice)\n",
        "\n",
        "    try:\n",
        "        # seriesDesc = slices[0].SeriesDescription\n",
        "        slices.sort(key=lambda x: float(x.ImagePositionPatient[2]))\n",
        "        try:\n",
        "            slice_thickness = np.abs(slices[0].ImagePositionPatient[2] - slices[1].ImagePositionPatient[2])\n",
        "        except:\n",
        "            slice_thickness = np.abs(slices[0].SliceLocation - slices[1].SliceLocation)\n",
        "    except Exception as e:\n",
        "        print (e)\n",
        "        #print 'No position found for image', slice_list[0]\n",
        "        return []\n",
        "    for s in slices:\n",
        "        s.SliceThickness = slice_thickness\n",
        "\n",
        "    for new_slice in slices:\n",
        "      sop_uid = new_slice.SOPInstanceUID\n",
        "      contour_list = fetch_contour_sop_instance_uid(metadata, sop_uid)\n",
        "      if len(contour_list) == 0:\n",
        "          logging.info(\"Image file SOPInstanceUID %s has no ROI data, using empty mask...\", sop_uid)\n",
        "          contour_mask = np.zeros((512, 512), np.uint8)\n",
        "      else:\n",
        "          num_with_rois += 1\n",
        "          contour_pixels = []\n",
        "          for c in contour_list:\n",
        "              contour_coord = c.ContourData\n",
        "              contour_pixels.extend(contour_to_pixels(contour_coord, new_slice))\n",
        "          contour_mask = build_mask(contour_pixels)\n",
        "      mask_arrays.append(contour_mask)\n",
        "\n",
        "    img_spacing = [float(slices[0].PixelSpacing[0]),\n",
        "    float(slices[0].PixelSpacing[1]), slice_thickness]\n",
        "    img_direction = [int(i) for i in slices[0].ImageOrientationPatient] + [0, 0, 1]\n",
        "    img_origin = slices[0].ImagePositionPatient\n",
        "\n",
        "    mask = np.stack([m for m in mask_arrays])\n",
        "    mask = mask.astype(np.int16)\n",
        "\n",
        "    return slices, img_spacing, img_direction, img_origin, mask\n",
        "\n",
        "\n",
        "def getPixelArray(slices):\n",
        "    image = np.stack([s.pixel_array for s in slices])\n",
        "\n",
        "    # Convert to int16 (from sometimes int16),\n",
        "    # should be possible as values should always be low enough (<32k)\n",
        "    image = image.astype(np.int16)\n",
        "\n",
        "    # Set outside-of-scan pixels to 0\n",
        "    # The intercept is usually -1024, so air is approximately 0\n",
        "    image[image == -2000] = 0\n",
        "\n",
        "    # Convert to Hounsfield units (HU)\n",
        "    for slice_number in range(len(slices)):\n",
        "        intercept = slices[slice_number].RescaleIntercept\n",
        "        print(\"intercept\", intercept)\n",
        "        slope = slices[slice_number].RescaleSlope\n",
        "        if slope != 1:\n",
        "            image[slice_number] = slope * image[slice_number].astype(np.float64)\n",
        "            image[slice_number] = image[slice_number].astype(np.int16)\n",
        "        image[slice_number] += np.int16(intercept)\n",
        "    return np.array(image, dtype=np.int16)\n",
        "\n",
        "\n",
        "def run_core(dicom_dir, split, patient_id):\n",
        "    print ('Processing patient ', dicom_dir)\n",
        "    dicomFiles = sorted(glob.glob(dicom_dir + '/*.dcm'))\n",
        "    dicomFiles = sorted(dicomFiles)\n",
        "    slices, img_spacing, img_direction, img_origin, mask = load_dicom(dicomFiles, split, patient_id)\n",
        "\n",
        "    if 0.0 in img_spacing:\n",
        "        print ('ERROR - Zero spacing found for patient,', seriesID, img_spacing)\n",
        "        return ''\n",
        "\n",
        "    imgCube = getPixelArray(slices)\n",
        "\n",
        "    # Build the SITK nrrd image\n",
        "    imgSitk = sitk.GetImageFromArray(imgCube)\n",
        "    imgSitk.SetSpacing(img_spacing)\n",
        "    imgSitk.SetDirection(img_direction)\n",
        "    imgSitk.SetOrigin(img_origin)\n",
        "\n",
        "    maskSitk = sitk.GetImageFromArray(mask)\n",
        "    maskSitk.SetSpacing(img_spacing)\n",
        "    maskSitk.SetDirection(img_direction)\n",
        "    maskSitk.SetOrigin(img_origin)\n",
        "\n",
        "    return imgSitk, maskSitk\n",
        "\n",
        "\n",
        "def dcm_to_nrrd(split, dataset, patient_id, data_type, input_dir, output_dir, save=True):\n",
        "    \"\"\"\n",
        "    Converts a stack of slices into a single .nrrd file and saves it.\n",
        "    Args:\n",
        "        dataset (str): Name of dataset.\n",
        "        patient_id (str): Unique patient id.\n",
        "        data_type (str): Type of data (e.g., ct, pet, mri..)\n",
        "        input_dir (str): Path to folder containing slices.\n",
        "        output_dir (str): Path to folder where nrrd will be saved.\n",
        "        save (bool): If True, the nrrd file is saved\n",
        "    Returns:\n",
        "        The sitk image object.\n",
        "    Raises:\n",
        "        Exception if an error occurs.\n",
        "    \"\"\"\n",
        "    path = os.path.join(output_dir, patient_id)\n",
        "    try:\n",
        "      os.mkdir(path)\n",
        "    except:\n",
        "      \"folder already created\"\n",
        "    nrrd_name = \"image.nrrd\"\n",
        "    mask_name = \"mask.nrrd\" \n",
        "    nrrd_file_path = os.path.join(output_dir, patient_id, nrrd_name)\n",
        "    nrrd_mask_path = os.path.join(output_dir, patient_id, mask_name)\n",
        "    sitk_object, mask_object = run_core(input_dir, split, patient_id)\n",
        "    if save:\n",
        "        nrrdWriter = sitk.ImageFileWriter()\n",
        "        nrrdWriter.SetFileName(nrrd_file_path)\n",
        "        nrrdWriter.SetUseCompression(True)\n",
        "        nrrdWriter.Execute(sitk_object)\n",
        "\n",
        "        nrrdWriter = sitk.ImageFileWriter()\n",
        "        nrrdWriter.SetFileName(nrrd_mask_path)\n",
        "        nrrdWriter.SetUseCompression(True)\n",
        "        nrrdWriter.Execute(mask_object)\n",
        "        \n",
        "    print (\"dataset:{} patient_id:{} done!\".format(dataset, patient_id))\n",
        "    return sitk_object, mask_object\n",
        "    # except Exception as e:\n",
        "    #     print (\"dataset:{} patient_id:{} error:{}\".format(dataset, patient_id, e))\n"
      ],
      "execution_count": null,
      "outputs": []
    },
    {
      "cell_type": "code",
      "metadata": {
        "id": "q-Wv0FaXI9ds"
      },
      "source": [
        "def sitk_interpolation(path_to_nrrd, interpolation_type, new_spacing, mask):\n",
        "\n",
        "    data = sitk.ReadImage(path_to_nrrd)\n",
        "\n",
        "    original_spacing = data.GetSpacing()\n",
        "    original_size = data.GetSize()\n",
        "    print('{} {}'.format('original size: ', original_size))\n",
        "    print('{} {}'.format('original spacing: ', original_spacing))\n",
        "\n",
        "    new_size = [int(round((original_size[0]*original_spacing[0])/float(new_spacing[0]))),\n",
        "                int(round((original_size[1]*original_spacing[1])/float(new_spacing[1]))),\n",
        "                int(round((original_size[2]*original_spacing[2])/float(new_spacing[2])))]\n",
        "\n",
        "    print('{} {}'.format('new size: ', new_size))\n",
        "\n",
        "    # http://insightsoftwareconsortium.github.io/SimpleITK-Notebooks/Python_html/20_Expand_With_Interpolators.html\n",
        "    if interpolation_type == 'linear':\n",
        "        interpolation_type = sitk.sitkLinear\n",
        "    elif interpolation_type == 'bspline':\n",
        "        interpolation_type = sitk.sitkBSpline\n",
        "    elif interpolation_type == 'nearest_neighbor':\n",
        "        interpolation_type = sitk.sitkNearestNeighbor\n",
        "\n",
        "    if mask:\n",
        "      interpolation_type = sitk.sitkNearestNeighbor\n",
        "\n",
        "    resampleImageFilter = sitk.ResampleImageFilter()\n",
        "    new_image = resampleImageFilter.Execute(data,\n",
        "                                            new_size,\n",
        "                                            sitk.Transform(),\n",
        "                                            interpolation_type,\n",
        "                                            data.GetOrigin(),\n",
        "                                            [float(x) for x in new_spacing],\n",
        "                                            data.GetDirection(),\n",
        "                                            0,\n",
        "                                            data.GetPixelIDValue())\n",
        "    new_image.SetSpacing(new_spacing)\n",
        "\n",
        "    new_array = sitk.GetArrayFromImage(new_image)\n",
        "\n",
        "    if not mask:\n",
        "      new_array = normalize_intensity(new_array)\n",
        "\n",
        "    x, y = new_array.shape[1], new_array.shape[2]\n",
        "    while new_array.shape[0] % 16 != 0:\n",
        "      new_array = np.vstack([np.zeros((1, x, y)), new_array])\n",
        "    \n",
        "    z, y = new_array.shape[0], new_array.shape[2]\n",
        "    while new_array.shape[1] % 16 != 0:\n",
        "      new_array = np.concatenate([np.zeros((z, 1, y)), new_array], axis=1)\n",
        "\n",
        "    z, x = new_array.shape[0], new_array.shape[1]\n",
        "    while new_array.shape[2] % 16 != 0:\n",
        "      new_array = np.concatenate([np.zeros((z, x, 1)), new_array], axis=2)\n",
        "\n",
        "\n",
        "    processedSitk = sitk.GetImageFromArray(new_array)\n",
        "    processedSitk.SetSpacing(new_spacing)\n",
        "    processedSitk.SetDirection(new_image.GetDirection())\n",
        "    processedSitk.SetOrigin(new_image.GetOrigin())\n",
        "\n",
        "    print(\"new dims\", new_array.shape)\n",
        "    return processedSitk\n",
        "    \n",
        "def interpolate(dataset, patient_id, data_type, path_to_nrrd, interpolation_type, new_spacing, return_type, image_type, output_dir = \"\", mask=False):\n",
        "    \"\"\"\n",
        "    Interpolates a given nrrd file to a given voxel spacing.\n",
        "    Args:\n",
        "        dataset (str): Name of dataset.\n",
        "        patient_id (str): Unique patient id.\n",
        "        data_type (str): Type of data (e.g., ct, pet, mri, lung(mask), heart(mask)..)\n",
        "        path_to_nrrd (str): Path to nrrd file.\n",
        "        interpolation_type (str): Either 'linear' (for images with continuous values), 'bspline' (also for images but will mess up the range of the values), or 'nearest_neighbor' (for masks with discrete values).\n",
        "        new_spacing (tuple): Tuple containing 3 values for voxel spacing to interpolate to: (x,y,z).\n",
        "        return_type (str): Either 'sitk_object' or 'numpy_array'.\n",
        "        output_dir (str): Optional. If provided, nrrd file will be saved there. If not provided, file will not be saved.\n",
        "    Returns:\n",
        "        Either a sitk image object or a numpy array derived from it (depending on 'return_type').\n",
        "    Raises:\n",
        "        Exception if an error occurs.\n",
        "    \"\"\"\n",
        "    try:\n",
        "        new_sitk_object = sitk_interpolation(path_to_nrrd, interpolation_type, new_spacing, mask)\n",
        "        if output_dir != \"\":\n",
        "            # write new nrrd\n",
        "            try:\n",
        "              os.mkdir(output_dir)\n",
        "            except:\n",
        "              print(\"directory already exists\")\n",
        "              \n",
        "            writer = sitk.ImageFileWriter()\n",
        "            writer.SetFileName(os.path.join(output_dir, \"{}.nrrd\".format(image_type)))\n",
        "            writer.SetUseCompression(True)\n",
        "            writer.Execute(new_sitk_object)\n",
        "\n",
        "        if return_type == \"sitk_object\":\n",
        "            return new_sitk_object\n",
        "        elif return_type == \"numpy_array\":\n",
        "            return sitk.GetArrayFromImage(new_sitk_object)\n",
        "\n",
        "    except Exception as e:\n",
        "        print (\"Error in {}_{}, {}\".format(dataset, patient_id, e))\n"
      ],
      "execution_count": null,
      "outputs": []
    },
    {
      "cell_type": "code",
      "metadata": {
        "id": "BRZCUcnEIo6o"
      },
      "source": [
        "def convert_split_to_nrrd(split):\n",
        "  try:\n",
        "    os.mkdir(\"{}-nrrd\".format(split))\n",
        "  except:\n",
        "    print(\"split already created\")\n",
        "  for patient in listdir(split):\n",
        "    dcm_to_nrrd(split, \"LCTSC\", patient, \"CT\", join(split, patient, \"images\"), join(\"{}-nrrd\".format(split)))"
      ],
      "execution_count": null,
      "outputs": []
    },
    {
      "cell_type": "code",
      "metadata": {
        "id": "fGbJ3DdEIrVo"
      },
      "source": [
        "convert_split_to_nrrd(\"train\")\n",
        "convert_split_to_nrrd(\"val\")\n",
        "convert_split_to_nrrd(\"test\")"
      ],
      "execution_count": null,
      "outputs": []
    },
    {
      "cell_type": "code",
      "metadata": {
        "id": "TQ6t0cZYI4FI"
      },
      "source": [
        "def save_resampled_nrrd(path):\n",
        "  try:\n",
        "    os.mkdir(\"{}-resampled\".format(path))\n",
        "  except:\n",
        "    print('directory already exists')\n",
        "  for patient in listdir(path):\n",
        "    print(patient)\n",
        "    for file in listdir(join(path, patient)):\n",
        "      if \"image\" in file:\n",
        "        interpolate(\"LCTSC\", patient, \"CT\", join(path, patient, file), \"linear\", (2.5, 2.5, 8), \"sitk_object\", \"image\", join(\"{}-resampled\".format(path), patient), False)\n",
        "      else:\n",
        "        interpolate(\"LCTSC\", patient, \"CT\", join(path, patient, file), \"linear\", (2.5, 2.5, 8), \"sitk_object\", \"mask\", join(\"{}-resampled\".format(path), patient), True)\n",
        "\n",
        "save_resampled_nrrd(\"train-nrrd\")\n",
        "save_resampled_nrrd(\"val-nrrd\")\n",
        "save_resampled_nrrd(\"test-nrrd\")"
      ],
      "execution_count": null,
      "outputs": []
    },
    {
      "cell_type": "code",
      "metadata": {
        "id": "D4Oumwx1UQ7F"
      },
      "source": [
        "!rm train-nrrd-resampled/ --recursive\n",
        "!rm test-nrrd-resampled/ --recursive\n",
        "!rm val-nrrd-resampled/ --recursive"
      ],
      "execution_count": null,
      "outputs": []
    },
    {
      "cell_type": "code",
      "metadata": {
        "id": "cDp3fVtbJHpq"
      },
      "source": [
        "!zip -r train-nrrd.zip train-nrrd\n",
        "!zip -r test-nrrd.zip test-nrrd\n",
        "!zip -r val-nrrd.zip val-nrrd\n",
        "\n",
        "!zip -r train-nrrd-resampled.zip train-nrrd-resampled\n",
        "!zip -r test-nrrd-resampled.zip test-nrrd-resampled\n",
        "!zip -r val-nrrd-resampled.zip val-nrrd-resampled"
      ],
      "execution_count": null,
      "outputs": []
    },
    {
      "cell_type": "code",
      "metadata": {
        "id": "QANlj6L5JI1V"
      },
      "source": [
        "!cat /content/drive/My\\ Drive/config/awscli.ini\n",
        "path = \"/content/drive/My Drive/config/awscli.ini\"\n",
        "\n",
        "import os\n",
        "!export AWS_SHARED_CREDENTIALS_FILE=/content/drive/My\\ Drive/config/awscli.ini\n",
        "path = \"/content/drive/My Drive/config/awscli.ini\"\n",
        "os.environ['AWS_SHARED_CREDENTIALS_FILE'] = path\n",
        "\n",
        "!aws s3 cp train-nrrd.zip s3://medical-image-segmentation/lungs/smaller-resampled/\n",
        "!aws s3 cp test-nrrd.zip s3://medical-image-segmentation/lungs/smaller-resampled/\n",
        "!aws s3 cp val-nrrd.zip s3://medical-image-segmentation/lungs/smaller-resampled/\n",
        "\n",
        "!aws s3 cp train-nrrd-resampled.zip s3://medical-image-segmentation/lungs/smaller-resampled/\n",
        "!aws s3 cp test-nrrd-resampled.zip s3://medical-image-segmentation/lungs/smaller-resampled/\n",
        "!aws s3 cp val-nrrd-resampled.zip s3://medical-image-segmentation/lungs/smaller-resampled/"
      ],
      "execution_count": null,
      "outputs": []
    },
    {
      "cell_type": "markdown",
      "metadata": {
        "id": "DKOYdGAwOmeA"
      },
      "source": [
        "## Helper functions for debugging\n",
        "- show_nrrd displays all slices for a given patient in nrrd file format\n",
        "- convert convert_nrrd_to_png creates png images for each slice in the nrrd file which can be used to train a 2D model, discarding empty image slices"
      ]
    },
    {
      "cell_type": "code",
      "metadata": {
        "id": "dQ8CBVPCoHBF"
      },
      "source": [
        "import matplotlib.pyplot as plt\n",
        "\n",
        "def show_nrrd(path):\n",
        "  for patient in listdir(path):\n",
        "    print('showing patient: ', patient)\n",
        "    img_data = sitk.GetArrayFromImage(sitk.ReadImage(join(path, patient, \"image.nrrd\")))\n",
        "    mask_data = sitk.GetArrayFromImage(sitk.ReadImage(join(path, patient, \"mask.nrrd\")))\n",
        "\n",
        "    img = img_data.reshape((img_data.shape[0], img_data.shape[1], img_data.shape[2], 1))\n",
        "    mask = mask_data.reshape((mask_data.shape[0], mask_data.shape[1], mask_data.shape[2], 1))\n",
        "\n",
        "    rows = len(img) // 10 + 1\n",
        "    plt.axis('off')\n",
        "    fig = plt.figure(figsize=(30,20), dpi= 100)\n",
        "    for i in range(len(img)):\n",
        "      row_num = i // 10\n",
        "      col_num = i % 10\n",
        "      img_slice = img[i].reshape((img_data.shape[1], img_data.shape[2]))\n",
        "      mask_slice = mask[i].reshape((mask_data.shape[1], mask_data.shape[2]))\n",
        "\n",
        "      ax = fig.add_subplot(rows,20,i*2+1)\n",
        "      ax.imshow(img_slice, cmap=\"gray\")\n",
        "      ax.set_axis_off()\n",
        "      ax = fig.add_subplot(rows,20,i*2+2)\n",
        "      ax.imshow(mask_slice, cmap=\"gray\")\n",
        "      ax.set_axis_off()\n",
        "    plt.show()"
      ],
      "execution_count": null,
      "outputs": []
    },
    {
      "cell_type": "code",
      "metadata": {
        "id": "nL3MxMEGp5TQ"
      },
      "source": [
        "show_nrrd(\"test-nrrd-resampled\")"
      ],
      "execution_count": null,
      "outputs": []
    },
    {
      "cell_type": "code",
      "metadata": {
        "id": "GayQGsVYk0GE"
      },
      "source": [
        "def convert_nrrd_to_png(path):\n",
        "  output_folder = join(path + '-output')\n",
        "  print(output_folder)\n",
        "  try:\n",
        "    os.mkdir(output_folder)\n",
        "  except:\n",
        "    print(\"output folder already exists\")\n",
        "\n",
        "  try:\n",
        "    os.mkdir(join(output_folder, \"images\"))\n",
        "  except:\n",
        "    print(\"images folder already exists\")\n",
        "  \n",
        "  try:\n",
        "    os.mkdir(join(output_folder, \"masks\"))\n",
        "  except:\n",
        "    print(\"masks folder already exists\")\n",
        "\n",
        "  try:\n",
        "    os.mkdir(join(output_folder, \"images\", \"lung_l\"))\n",
        "  except:\n",
        "    print(\"images folder already exists\")\n",
        "  \n",
        "  try:\n",
        "    os.mkdir(join(output_folder, \"masks\", \"lung_l\"))\n",
        "  except:\n",
        "    print(\"masks folder already exists\")\n",
        "\n",
        "  for patient in listdir(path):\n",
        "    print(\"saving\", patient)\n",
        "    img_data = sitk.GetArrayFromImage(sitk.ReadImage(join(path, patient, \"image.nrrd\")))\n",
        "    mask_data = sitk.GetArrayFromImage(sitk.ReadImage(join(path, patient, \"mask.nrrd\")))\n",
        "    for i in range(len(img_data)):\n",
        "      if np.amax(img_data[i]) == 0:\n",
        "        print(\"not saving empty image\")\n",
        "      else:\n",
        "        x, y = img_data[i].shape\n",
        "        new_array = np.zeros((704, 704))\n",
        "        new_mask = np.zeros((704, 704))\n",
        "        diff = (704 - x) // 2\n",
        "        new_array[diff:diff+x, diff:diff+y] = img_data[i]\n",
        "        new_mask[diff:diff+x, diff:diff+y] = mask_data[i]\n",
        "        plt.imsave(f\"{output_folder}/images/lung_l/{patient}-{i}.png\", new_array, cmap=\"gray\")\n",
        "        plt.imsave(f\"{output_folder}/masks/lung_l/{patient}-{i}.png\", new_mask, cmap=\"gray\")\n",
        "        # plt.imsave(f\"{output_folder}/images/lung_l/{patient}-{i}.png\", img_data[i], cmap=\"gray\")\n",
        "        # plt.imsave(f\"{output_folder}/masks/lung_l/{patient}-{i}.png\", mask_data[i], cmap=\"gray\")\n",
        "    print(diff)\n",
        "    "
      ],
      "execution_count": null,
      "outputs": []
    },
    {
      "cell_type": "code",
      "metadata": {
        "id": "WqTytr0DW9i8"
      },
      "source": [
        "convert_nrrd_to_png(\"train-nrrd-resampled\")\n",
        "convert_nrrd_to_png(\"val-nrrd-resampled\")\n",
        "convert_nrrd_to_png(\"test-nrrd-resampled\")"
      ],
      "execution_count": null,
      "outputs": []
    },
    {
      "cell_type": "code",
      "metadata": {
        "id": "VPDQRyoZfYPx"
      },
      "source": [
        "!zip train-nrrd-resampled-output.zip train-nrrd-resampled-output -r\n",
        "!zip val-nrrd-resampled-output.zip val-nrrd-resampled-output -r\n",
        "!zip test-nrrd-resampled-output.zip test-nrrd-resampled-output -r"
      ],
      "execution_count": null,
      "outputs": []
    },
    {
      "cell_type": "code",
      "metadata": {
        "id": "9yj2BmWmXog1"
      },
      "source": [
        "!cat /content/drive/My\\ Drive/config/awscli.ini\n",
        "path = \"/content/drive/My Drive/config/awscli.ini\"\n",
        "\n",
        "import os\n",
        "!export AWS_SHARED_CREDENTIALS_FILE=/content/drive/My\\ Drive/config/awscli.ini\n",
        "path = \"/content/drive/My Drive/config/awscli.ini\"\n",
        "os.environ['AWS_SHARED_CREDENTIALS_FILE'] = path\n",
        "\n",
        "!aws s3 cp train-nrrd-resampled-output.zip s3://medical-image-segmentation/lungs/70-10-20-resample/\n",
        "!aws s3 cp test-nrrd-resampled-output.zip s3://medical-image-segmentation/lungs/70-10-20-resample/\n",
        "!aws s3 cp val-nrrd-resampled-output.zip s3://medical-image-segmentation/lungs/70-10-20-resample/"
      ],
      "execution_count": null,
      "outputs": []
    }
  ]
}