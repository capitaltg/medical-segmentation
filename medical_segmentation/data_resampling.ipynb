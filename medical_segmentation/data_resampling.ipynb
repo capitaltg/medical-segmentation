{
 "cells": [
  {
   "cell_type": "code",
   "execution_count": null,
   "metadata": {
    "id": "WEWCoysRJU34"
   },
   "outputs": [],
   "source": [
    "import os\n",
    "from os import listdir\n",
    "from os.path import join\n",
    "import logging\n",
    "import matplotlib.pyplot as plt\n",
    "import numpy as np\n",
    "from google.colab import drive\n",
    "drive.mount(\"/content/drive\", force_remount=True)\n",
    "from dcm_to_nrrd import dcm_to_nrrd\n",
    "from interpolate import interpolate\n",
    "import SimpleITK as sitk\n",
    "\n",
    "np.set_printoptions(threshold=np.inf)"
   ]
  },
  {
   "cell_type": "code",
   "execution_count": null,
   "metadata": {
    "id": "lKMyuw21JP1K"
   },
   "outputs": [],
   "source": [
    "!cat /content/drive/My\\ Drive/config/awscli.ini\n",
    "!export AWS_SHARED_CREDENTIALS_FILE=/content/drive/My\\ Drive/config/awscli.ini\n",
    "path = \"/content/drive/My Drive/config/awscli.ini\"\n",
    "os.environ['AWS_SHARED_CREDENTIALS_FILE'] = path\n",
    "\n",
    "!aws s3 cp s3://medical-image-segmentation/lungs/70-10-20-resample/train.zip .\n",
    "!aws s3 cp s3://medical-image-segmentation/lungs/70-10-20-resample/val.zip .\n",
    "!aws s3 cp s3://medical-image-segmentation/lungs/70-10-20-resample/test.zip ."
   ]
  },
  {
   "cell_type": "code",
   "execution_count": null,
   "metadata": {
    "id": "pwDP6WMsJXsn"
   },
   "outputs": [],
   "source": [
    "!unzip train.zip\n",
    "!unzip val.zip\n",
    "!unzip test.zip"
   ]
  },
  {
   "cell_type": "code",
   "execution_count": null,
   "metadata": {
    "id": "BRZCUcnEIo6o"
   },
   "outputs": [],
   "source": [
    "def convert_split_to_nrrd(split):\n",
    "    \"\"\"\n",
    "    Converts dcm files to nrrd file format\n",
    "    Args:\n",
    "        split (str): train, test or val - specifies dataset to convert\n",
    "    Returns:\n",
    "        None\n",
    "    \"\"\"\n",
    "    try:\n",
    "        os.mkdir(\"{}-nrrd\".format(split))\n",
    "    except:\n",
    "        logging.debug(\"split already created\")\n",
    "    for patient in listdir(split):\n",
    "        dcm_to_nrrd(split, \"LCTSC\", patient, \"CT\", join(split, patient, \"images\"),\n",
    "                    join(\"{}-nrrd\".format(split)))"
   ]
  },
  {
   "cell_type": "code",
   "execution_count": null,
   "metadata": {
    "id": "fGbJ3DdEIrVo"
   },
   "outputs": [],
   "source": [
    "convert_split_to_nrrd(\"train\")\n",
    "convert_split_to_nrrd(\"val\")\n",
    "convert_split_to_nrrd(\"test\")"
   ]
  },
  {
   "cell_type": "code",
   "execution_count": null,
   "metadata": {
    "id": "TQ6t0cZYI4FI"
   },
   "outputs": [],
   "source": [
    "def save_resampled_nrrd(path, dims):\n",
    "    \"\"\"\n",
    "    Resamples nrrd files to new voxel spacing determined by dims\n",
    "    Args:\n",
    "        path (str): path to folder containing nrrd files\n",
    "        dims (tuple): length 3 tuple containing resampled nrrd pixel dims (x, y, z)\n",
    "    Returns:\n",
    "        None\n",
    "    \"\"\"\n",
    "    try:\n",
    "        os.mkdir(\"{}-resampled\".format(path))\n",
    "    except:\n",
    "        logging.debug('directory already exists')\n",
    "    for patient in listdir(path):\n",
    "        logging.info(\"resampling:\" + patient)\n",
    "        for file in listdir(join(path, patient)):\n",
    "            if \"image\" in file:\n",
    "                interpolate(\"LCTSC\", patient, \"CT\", join(path, patient, file), \"linear\", dims,\n",
    "                            \"sitk_object\", \"image\", join(\"{}-resampled\".format(path), patient), False)\n",
    "            else:\n",
    "                interpolate(\"LCTSC\", patient, \"CT\", join(path, patient, file), \"linear\", dims,\n",
    "                            \"sitk_object\", \"mask\", join(\"{}-resampled\".format(path), patient), True)\n",
    "\n",
    "save_resampled_nrrd(\"train-nrrd\", (1, 1, 3))\n",
    "save_resampled_nrrd(\"val-nrrd\", (1, 1, 3))\n",
    "save_resampled_nrrd(\"test-nrrd\", (1, 1, 3))"
   ]
  },
  {
   "cell_type": "code",
   "execution_count": null,
   "metadata": {
    "id": "D4Oumwx1UQ7F"
   },
   "outputs": [],
   "source": [
    "!rm train-nrrd-resampled/ --recursive\n",
    "!rm test-nrrd-resampled/ --recursive\n",
    "!rm val-nrrd-resampled/ --recursive"
   ]
  },
  {
   "cell_type": "code",
   "execution_count": null,
   "metadata": {
    "id": "cDp3fVtbJHpq"
   },
   "outputs": [],
   "source": [
    "!zip -r train-nrrd.zip train-nrrd\n",
    "!zip -r test-nrrd.zip test-nrrd\n",
    "!zip -r val-nrrd.zip val-nrrd\n",
    "\n",
    "!zip -r train-nrrd-resampled.zip train-nrrd-resampled\n",
    "!zip -r test-nrrd-resampled.zip test-nrrd-resampled\n",
    "!zip -r val-nrrd-resampled.zip val-nrrd-resampled"
   ]
  },
  {
   "cell_type": "code",
   "execution_count": null,
   "metadata": {
    "id": "QANlj6L5JI1V"
   },
   "outputs": [],
   "source": [
    "!aws s3 cp train-nrrd.zip s3://medical-image-segmentation/lungs/smaller-resampled/\n",
    "!aws s3 cp test-nrrd.zip s3://medical-image-segmentation/lungs/smaller-resampled/\n",
    "!aws s3 cp val-nrrd.zip s3://medical-image-segmentation/lungs/smaller-resampled/\n",
    "\n",
    "!aws s3 cp train-nrrd-resampled.zip s3://medical-image-segmentation/lungs/smaller-resampled/\n",
    "!aws s3 cp test-nrrd-resampled.zip s3://medical-image-segmentation/lungs/smaller-resampled/\n",
    "!aws s3 cp val-nrrd-resampled.zip s3://medical-image-segmentation/lungs/smaller-resampled/"
   ]
  },
  {
   "cell_type": "markdown",
   "metadata": {
    "id": "DKOYdGAwOmeA"
   },
   "source": [
    "## Helper functions for debugging\n",
    "- show_nrrd displays all slices for a given patient in nrrd file format\n",
    "- convert convert_nrrd_to_png creates png images for each slice in the nrrd file which can be used to train a 2D model, discarding empty image slices"
   ]
  },
  {
   "cell_type": "code",
   "execution_count": null,
   "metadata": {
    "id": "dQ8CBVPCoHBF"
   },
   "outputs": [],
   "source": [
    "def show_nrrd(path):\n",
    "    \"\"\"\n",
    "    Displays nrrd files in grid format\n",
    "    Args:\n",
    "        path (str): path to folder containing nrrd files\n",
    "    Returns:\n",
    "        None\n",
    "    \"\"\"\n",
    "    for patient in listdir(path):\n",
    "        logging.info('showing patient: ' + patient)\n",
    "        img_data = sitk.GetArrayFromImage(sitk.ReadImage(join(path, patient, \"image.nrrd\")))\n",
    "        mask_data = sitk.GetArrayFromImage(sitk.ReadImage(join(path, patient, \"mask.nrrd\")))\n",
    "\n",
    "        img = img_data.reshape((img_data.shape[0], img_data.shape[1], img_data.shape[2], 1))\n",
    "        mask = mask_data.reshape((mask_data.shape[0], mask_data.shape[1], mask_data.shape[2], 1))\n",
    "\n",
    "        rows = len(img) // 10 + 1\n",
    "        plt.axis('off')\n",
    "        fig = plt.figure(figsize=(30, 20), dpi=100)\n",
    "        for i, array in enumerate(img):\n",
    "            img_slice = array.reshape((img_data.shape[1], img_data.shape[2]))\n",
    "            mask_slice = mask[i].reshape((mask_data.shape[1], mask_data.shape[2]))\n",
    "\n",
    "            ax_img = fig.add_subplot(rows, 20, i*2+1)\n",
    "            ax_img.imshow(img_slice, cmap=\"gray\")\n",
    "            ax_img.set_axis_off()\n",
    "            ax_mask = fig.add_subplot(rows, 20, i*2+2)\n",
    "            ax_mask.imshow(mask_slice, cmap=\"gray\")\n",
    "            ax_mask.set_axis_off()\n",
    "        plt.show()"
   ]
  },
  {
   "cell_type": "code",
   "execution_count": null,
   "metadata": {
    "id": "nL3MxMEGp5TQ"
   },
   "outputs": [],
   "source": [
    "show_nrrd(\"test-nrrd-resampled\")"
   ]
  },
  {
   "cell_type": "code",
   "execution_count": null,
   "metadata": {
    "id": "GayQGsVYk0GE"
   },
   "outputs": [],
   "source": [
    "def convert_nrrd_to_png(path):\n",
    "    \"\"\"\n",
    "    Converts nrrd file to multiple png files which can be used in 2D training\n",
    "    Args:\n",
    "        path (str): path to folder containing nrrd files\n",
    "    Returns:\n",
    "        None\n",
    "    \"\"\"\n",
    "    output_folder = join(path + '-output')\n",
    "    logging.info(\"output folder:\", output_folder)\n",
    "    try:\n",
    "        os.mkdir(output_folder)\n",
    "    except:\n",
    "        logging.debug(\"output folder already exists\")\n",
    "\n",
    "    try:\n",
    "        os.mkdir(join(output_folder, \"images\"))\n",
    "    except:\n",
    "        logging.debug(\"images folder already exists\")\n",
    "\n",
    "    try:\n",
    "        os.mkdir(join(output_folder, \"masks\"))\n",
    "    except:\n",
    "        logging.debug(\"masks folder already exists\")\n",
    "\n",
    "    try:\n",
    "        os.mkdir(join(output_folder, \"images\", \"lung_l\"))\n",
    "    except:\n",
    "        logging.debug(\"images folder already exists\")\n",
    "\n",
    "    try:\n",
    "    os.mkdir(join(output_folder, \"masks\", \"lung_l\"))\n",
    "    except:\n",
    "    logging.debug(\"masks folder already exists\")\n",
    "\n",
    "    for patient in listdir(path):\n",
    "    logging.info(\"saving:\", patient)\n",
    "    img_data = sitk.GetArrayFromImage(sitk.ReadImage(join(path, patient, \"image.nrrd\")))\n",
    "    mask_data = sitk.GetArrayFromImage(sitk.ReadImage(join(path, patient, \"mask.nrrd\")))\n",
    "    for i in range(len(img_data)):\n",
    "        if np.amax(img_data[i]) == 0:\n",
    "            logging.debug(\"not saving empty image\")\n",
    "        else:\n",
    "            x, y = img_data[i].shape\n",
    "            new_array = np.zeros((704, 704))\n",
    "            new_mask = np.zeros((704, 704))\n",
    "            diff = (704 - x) // 2\n",
    "            new_array[diff:diff+x, diff:diff+y] = img_data[i]\n",
    "            new_mask[diff:diff+x, diff:diff+y] = mask_data[i]\n",
    "            plt.imsave(f\"{output_folder}/images/lung_l/{patient}-{i}.png\", new_array, cmap=\"gray\")\n",
    "            plt.imsave(f\"{output_folder}/masks/lung_l/{patient}-{i}.png\", new_mask, cmap=\"gray\")\n",
    "            # plt.imsave(f\"{output_folder}/images/lung_l/{patient}-{i}.png\", img_data[i], cmap=\"gray\")\n",
    "            # plt.imsave(f\"{output_folder}/masks/lung_l/{patient}-{i}.png\", mask_data[i], cmap=\"gray\")\n",
    "    logging.debug(diff)\n",
    "    "
   ]
  },
  {
   "cell_type": "code",
   "execution_count": null,
   "metadata": {
    "id": "WqTytr0DW9i8"
   },
   "outputs": [],
   "source": [
    "convert_nrrd_to_png(\"train-nrrd-resampled\")\n",
    "convert_nrrd_to_png(\"val-nrrd-resampled\")\n",
    "convert_nrrd_to_png(\"test-nrrd-resampled\")"
   ]
  },
  {
   "cell_type": "code",
   "execution_count": null,
   "metadata": {
    "id": "VPDQRyoZfYPx"
   },
   "outputs": [],
   "source": [
    "!zip train-nrrd-resampled-output.zip train-nrrd-resampled-output -r\n",
    "!zip val-nrrd-resampled-output.zip val-nrrd-resampled-output -r\n",
    "!zip test-nrrd-resampled-output.zip test-nrrd-resampled-output -r"
   ]
  },
  {
   "cell_type": "code",
   "execution_count": null,
   "metadata": {
    "id": "9yj2BmWmXog1"
   },
   "outputs": [],
   "source": [
    "!aws s3 cp train-nrrd-resampled-output.zip s3://medical-image-segmentation/lungs/70-10-20-resample/\n",
    "!aws s3 cp test-nrrd-resampled-output.zip s3://medical-image-segmentation/lungs/70-10-20-resample/\n",
    "!aws s3 cp val-nrrd-resampled-output.zip s3://medical-image-segmentation/lungs/70-10-20-resample/"
   ]
  }
 ],
 "metadata": {
  "colab": {
   "collapsed_sections": [],
   "machine_shape": "hm",
   "name": "data_resampling.ipynb",
   "provenance": []
  },
  "kernelspec": {
   "display_name": "Python 3",
   "language": "python",
   "name": "python3"
  },
  "language_info": {
   "codemirror_mode": {
    "name": "ipython",
    "version": 3
   },
   "file_extension": ".py",
   "mimetype": "text/x-python",
   "name": "python",
   "nbconvert_exporter": "python",
   "pygments_lexer": "ipython3",
   "version": "3.8.1"
  }
 },
 "nbformat": 4,
 "nbformat_minor": 2
}
